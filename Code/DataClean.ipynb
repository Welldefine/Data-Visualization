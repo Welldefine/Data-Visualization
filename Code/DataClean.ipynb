{
 "cells": [
  {
   "cell_type": "code",
   "id": "initial_id",
   "metadata": {
    "collapsed": true,
    "ExecuteTime": {
     "end_time": "2024-11-24T12:06:47.890631Z",
     "start_time": "2024-11-24T12:06:47.883956Z"
    }
   },
   "source": [
    "import os\n",
    "import pandas as pd"
   ],
   "outputs": [],
   "execution_count": 113
  },
  {
   "metadata": {},
   "cell_type": "markdown",
   "source": "## 获取数据集位置",
   "id": "b6b45521dbb1df09"
  },
  {
   "metadata": {
    "ExecuteTime": {
     "end_time": "2024-11-24T12:06:47.960428Z",
     "start_time": "2024-11-24T12:06:47.933963Z"
    }
   },
   "cell_type": "code",
   "source": [
    "floder_path=r\"D:\\trunz\\Documents\\DataScience\\R_visualization\\Data-Visualization_Teamwork\\Data Set\\北京空气质量\"\n",
    "\n",
    "filesList=[]\n",
    "filesNum=[]\n",
    "for root, dirs, files in os.walk(floder_path):\n",
    "    filesNum.append(len(files))\n",
    "    for file in files:\n",
    "        if file.endswith(\".csv\"):\n",
    "            file_path=os.path.join(root, file)\n",
    "            filesList.append(file_path)"
   ],
   "id": "1a53fdf6adae9bdb",
   "outputs": [],
   "execution_count": 114
  },
  {
   "metadata": {},
   "cell_type": "markdown",
   "source": "### 得到数据集路径与不同年份的index",
   "id": "d049ff44b95719bb"
  },
  {
   "metadata": {
    "ExecuteTime": {
     "end_time": "2024-11-24T12:06:47.965186Z",
     "start_time": "2024-11-24T12:06:47.960428Z"
    }
   },
   "cell_type": "code",
   "source": [
    "filesNum=filesNum[1:-1]\n",
    "filesNum"
   ],
   "id": "44832f47c86cc6da",
   "outputs": [
    {
     "data": {
      "text/plain": [
       "[627, 728, 732, 730, 730, 728, 730, 599, 511, 730]"
      ]
     },
     "execution_count": 115,
     "metadata": {},
     "output_type": "execute_result"
    }
   ],
   "execution_count": 115
  },
  {
   "metadata": {
    "ExecuteTime": {
     "end_time": "2024-11-24T12:06:47.970819Z",
     "start_time": "2024-11-24T12:06:47.965186Z"
    }
   },
   "cell_type": "code",
   "source": [
    "fileindex=[0]\n",
    "for num in filesNum:\n",
    "    fileindex.append(fileindex[-1]+num)\n",
    "fileindex"
   ],
   "id": "55a587cb6cd264e7",
   "outputs": [
    {
     "data": {
      "text/plain": [
       "[0, 627, 1355, 2087, 2817, 3547, 4275, 5005, 5604, 6115, 6845]"
      ]
     },
     "execution_count": 116,
     "metadata": {},
     "output_type": "execute_result"
    }
   ],
   "execution_count": 116
  },
  {
   "metadata": {},
   "cell_type": "markdown",
   "source": "## Load数据集并整合不同表格，得到逐年份的分时数据",
   "id": "d65f93e4a7881f60"
  },
  {
   "metadata": {
    "ExecuteTime": {
     "end_time": "2024-11-24T12:07:37.511292Z",
     "start_time": "2024-11-24T12:06:47.970819Z"
    }
   },
   "cell_type": "code",
   "source": [
    "DataList=[]\n",
    "for i in range(len(filesNum)):\n",
    "    df_all=pd.DataFrame()\n",
    "    for file in filesList[fileindex[i]:fileindex[i+1]]:\n",
    "        if os.path.getsize(file)==0:\n",
    "            continue \n",
    "        df_temp=pd.read_csv(file)\n",
    "        try:\n",
    "            df_temp=df_temp[df_temp['type'].isin(['PM2.5','PM10','AQI','SO2','NO2','O3','CO'])]\n",
    "        except Exception as e:\n",
    "            continue\n",
    "        df_all=pd.concat([df_all,df_temp])\n",
    "        df_all=df_all.sort_values(by=['date','hour'])\n",
    "    DataList.append(df_all)"
   ],
   "id": "f1b688ee2838f8eb",
   "outputs": [],
   "execution_count": 117
  },
  {
   "metadata": {
    "ExecuteTime": {
     "end_time": "2024-11-24T12:07:45.647177Z",
     "start_time": "2024-11-24T12:07:37.546462Z"
    }
   },
   "cell_type": "code",
   "source": [
    "# 保存 DataList 中的每个 DataFrame 为单独的 CSV 文件\n",
    "output_dir1=os.path.join(os.path.pardir,'output_data/first clean')\n",
    "os.makedirs(output_dir1,exist_ok=True)\n",
    "\n",
    "# 保存 DataList 中的每个 DataFrame 为单独的 CSV 文件\n",
    "for i, df in enumerate(DataList):\n",
    "    output_file=os.path.join(output_dir1,f'Beijing_AirQuality_{i+2014}_hours.csv')\n",
    "    df.to_csv(output_file,index=False,encoding='utf-8-sig')\n",
    "    print(f\"已保存文件: {output_file}\")"
   ],
   "id": "276e2b3dde32b23e",
   "outputs": [
    {
     "name": "stdout",
     "output_type": "stream",
     "text": [
      "已保存文件: ..\\output_data/first clean\\Beijing_AirQuality_2014_hours.csv\n",
      "已保存文件: ..\\output_data/first clean\\Beijing_AirQuality_2015_hours.csv\n",
      "已保存文件: ..\\output_data/first clean\\Beijing_AirQuality_2016_hours.csv\n",
      "已保存文件: ..\\output_data/first clean\\Beijing_AirQuality_2017_hours.csv\n",
      "已保存文件: ..\\output_data/first clean\\Beijing_AirQuality_2018_hours.csv\n",
      "已保存文件: ..\\output_data/first clean\\Beijing_AirQuality_2019_hours.csv\n",
      "已保存文件: ..\\output_data/first clean\\Beijing_AirQuality_2020_hours.csv\n",
      "已保存文件: ..\\output_data/first clean\\Beijing_AirQuality_2021_hours.csv\n",
      "已保存文件: ..\\output_data/first clean\\Beijing_AirQuality_2022_hours.csv\n",
      "已保存文件: ..\\output_data/first clean\\Beijing_AirQuality_2023_hours.csv\n"
     ]
    }
   ],
   "execution_count": 119
  },
  {
   "metadata": {
    "ExecuteTime": {
     "end_time": "2024-11-24T12:07:46.639395Z",
     "start_time": "2024-11-24T12:07:45.647177Z"
    }
   },
   "cell_type": "code",
   "source": [
    "# Dictionary mapping locations to districts\n",
    "location_to_district = {\n",
    "    '东城东四': '东城区', '东城天坛': '东城区', '西城官园': '西城区', '西城万寿西宫': '西城区', '朝阳奥体中心': '朝阳区',\n",
    "    '朝阳农展馆': '朝阳区', '海淀万柳': '海淀区', '海淀四季青': '海淀区', '丰台小屯': '丰台区', '丰台云岗': '丰台区',\n",
    "    '石景山古城': '石景山区', '石景山老山': '石景山区', '昌平镇': '昌平区', '昌平南邵': '昌平区', '定陵(对照点)': '昌平区',\n",
    "    '延庆夏都': '延庆区', '延庆石河营': '延庆区', '怀柔镇': '怀柔区', '怀柔新城': '怀柔区', '密云镇': '密云区',\n",
    "    '密云新城': '密云区', '平谷镇': '平谷区', '平谷新城': '平谷区', '顺义新城': '顺义区', '顺义北小营': '顺义区',\n",
    "    '通州永顺': '通州区', '通州东关': '通州区', '大兴黄村': '大兴区', '大兴旧宫': '大兴区', '亦庄开发区': '大兴区',\n",
    "    '京东南区域点': '大兴区', '门头沟双峪': '门头沟区', '门头沟三家店': '门头沟区', '房山良乡': '房山区', '房山燕山': '房山区','东四': '东城区', '天坛': '东城区', '官园': '西城区', '万寿西宫': '西城区', '奥体中心': '朝阳区', '农展馆': '朝阳区', '万柳': '海淀区',\n",
    "    '北部新区': '海淀区', '植物园': '海淀区', '丰台花园': '丰台区', '云岗': '丰台区', '古城': '石景山区', '房山': '房山区', '大兴': '大兴区',\n",
    "    '亦庄': '大兴区', '通州': '通州区', '顺义': '顺义区', '昌平': '昌平区', '门头沟': '门头沟区', '平谷': '平谷区', '怀柔': '怀柔区',\n",
    "    '密云': '密云区', '延庆': '延庆区', '定陵': '昌平区', '八达岭': '延庆区', '密云水库': '密云区', '东高村': '顺义区', '永乐店': '通州区',\n",
    "    '榆垡': '大兴区', '琉璃河': '房山区', '前门': '东城区', '永定门内': '东城区', '西直门北': '西城区', '南三环': '丰台区', '东四环': '朝阳区'\n",
    "}\n",
    "NewDataList=[]\n",
    "# Function to merge columns by district\n",
    "def merge_columns_by_district(df, location_to_district):\n",
    "    district_data = {}\n",
    "    for location, district in location_to_district.items():\n",
    "        if location in df.columns:\n",
    "            if district not in district_data:\n",
    "                district_data[district] = []\n",
    "            district_data[district].append(df[location])\n",
    "    \n",
    "    for district, columns in district_data.items():\n",
    "        df[district] = pd.concat(columns, axis=1).mean(axis=1)\n",
    "    \n",
    "    column_to_drop = [location for location in location_to_district.keys() if location in df.columns]\n",
    "    df = df.drop(columns=column_to_drop)\n",
    "    return df\n",
    "\n",
    "for data in DataList:\n",
    "    NewDataList.append(merge_columns_by_district(data, location_to_district))"
   ],
   "id": "a4ef6a63ab4c89b0",
   "outputs": [],
   "execution_count": 120
  },
  {
   "metadata": {
    "ExecuteTime": {
     "end_time": "2024-11-24T12:07:46.656419Z",
     "start_time": "2024-11-24T12:07:46.640403Z"
    }
   },
   "cell_type": "code",
   "source": "NewDataList[1]",
   "id": "9c8585548b3cb3ef",
   "outputs": [
    {
     "data": {
      "text/plain": [
       "         date  hour   type      东城区         西城区         朝阳区         海淀区  \\\n",
       "0    20150101     0  PM2.5    8.375    7.700000   15.566667    5.700000   \n",
       "2    20150101     0   PM10   16.350   18.900000   44.233333   12.533333   \n",
       "4    20150101     0    AQI   49.000   43.000000   52.333333   39.666667   \n",
       "0    20150101     0    SO2   13.950   12.466667   15.533333    9.533333   \n",
       "2    20150101     0    NO2   28.050   19.100000   41.666667    7.766667   \n",
       "..        ...   ...    ...      ...         ...         ...         ...   \n",
       "119  20151231    23    AQI   91.750   89.000000   99.333333  102.666667   \n",
       "184  20151231    23    SO2   26.250   44.333333   31.666667   39.333333   \n",
       "186  20151231    23    NO2  114.000  114.000000  118.000000  100.000000   \n",
       "188  20151231    23     O3    2.500    9.333333   15.000000    5.666667   \n",
       "190  20151231    23     CO    4.050    4.666667    4.733333    3.833333   \n",
       "\n",
       "            丰台区   石景山区     房山区         大兴区     通州区    顺义区    昌平区  门头沟区    平谷区  \\\n",
       "0      5.300000    7.9   73.25   13.366667   38.70  11.85  12.70   3.0   16.7   \n",
       "2     14.650000   10.6    8.50   27.033333   57.05  28.55  33.80  10.2   33.4   \n",
       "4     47.666667   28.0   56.00   57.000000   80.00  45.50  54.00  43.0   54.0   \n",
       "0      5.500000    3.2   26.85   11.933333   31.25   7.25   6.40   2.7    9.1   \n",
       "2     27.666667    4.0   34.35   20.066667   70.40  11.30  22.90   2.1   13.6   \n",
       "..          ...    ...     ...         ...     ...    ...    ...   ...    ...   \n",
       "119   96.666667  102.0  185.50  150.666667  147.50  88.00  72.00  83.0  129.0   \n",
       "184   31.333333   34.0   32.50   44.333333   38.00  25.50  18.50  17.0   21.0   \n",
       "186  101.000000   89.0   99.00  125.000000  102.50  84.00  88.00  81.0   61.0   \n",
       "188    7.000000    2.0    3.00   11.666667    9.50   7.00   2.50   2.0   19.0   \n",
       "190    4.966667    3.6    4.85    5.600000    4.50   3.05   3.15   2.5    2.3   \n",
       "\n",
       "      怀柔区    密云区    延庆区  \n",
       "0     3.4   4.95  10.15  \n",
       "2    13.9  21.70  30.40  \n",
       "4    20.0  28.00  46.00  \n",
       "0     2.0   9.55  15.70  \n",
       "2     2.0   8.80  13.25  \n",
       "..    ...    ...    ...  \n",
       "119  65.0  68.00  80.00  \n",
       "184   6.0  14.00  18.50  \n",
       "186  44.0  49.50  80.00  \n",
       "188   2.0  12.00   7.50  \n",
       "190   1.7   2.30   2.50  \n",
       "\n",
       "[60809 rows x 19 columns]"
      ],
      "text/html": [
       "<div>\n",
       "<style scoped>\n",
       "    .dataframe tbody tr th:only-of-type {\n",
       "        vertical-align: middle;\n",
       "    }\n",
       "\n",
       "    .dataframe tbody tr th {\n",
       "        vertical-align: top;\n",
       "    }\n",
       "\n",
       "    .dataframe thead th {\n",
       "        text-align: right;\n",
       "    }\n",
       "</style>\n",
       "<table border=\"1\" class=\"dataframe\">\n",
       "  <thead>\n",
       "    <tr style=\"text-align: right;\">\n",
       "      <th></th>\n",
       "      <th>date</th>\n",
       "      <th>hour</th>\n",
       "      <th>type</th>\n",
       "      <th>东城区</th>\n",
       "      <th>西城区</th>\n",
       "      <th>朝阳区</th>\n",
       "      <th>海淀区</th>\n",
       "      <th>丰台区</th>\n",
       "      <th>石景山区</th>\n",
       "      <th>房山区</th>\n",
       "      <th>大兴区</th>\n",
       "      <th>通州区</th>\n",
       "      <th>顺义区</th>\n",
       "      <th>昌平区</th>\n",
       "      <th>门头沟区</th>\n",
       "      <th>平谷区</th>\n",
       "      <th>怀柔区</th>\n",
       "      <th>密云区</th>\n",
       "      <th>延庆区</th>\n",
       "    </tr>\n",
       "  </thead>\n",
       "  <tbody>\n",
       "    <tr>\n",
       "      <th>0</th>\n",
       "      <td>20150101</td>\n",
       "      <td>0</td>\n",
       "      <td>PM2.5</td>\n",
       "      <td>8.375</td>\n",
       "      <td>7.700000</td>\n",
       "      <td>15.566667</td>\n",
       "      <td>5.700000</td>\n",
       "      <td>5.300000</td>\n",
       "      <td>7.9</td>\n",
       "      <td>73.25</td>\n",
       "      <td>13.366667</td>\n",
       "      <td>38.70</td>\n",
       "      <td>11.85</td>\n",
       "      <td>12.70</td>\n",
       "      <td>3.0</td>\n",
       "      <td>16.7</td>\n",
       "      <td>3.4</td>\n",
       "      <td>4.95</td>\n",
       "      <td>10.15</td>\n",
       "    </tr>\n",
       "    <tr>\n",
       "      <th>2</th>\n",
       "      <td>20150101</td>\n",
       "      <td>0</td>\n",
       "      <td>PM10</td>\n",
       "      <td>16.350</td>\n",
       "      <td>18.900000</td>\n",
       "      <td>44.233333</td>\n",
       "      <td>12.533333</td>\n",
       "      <td>14.650000</td>\n",
       "      <td>10.6</td>\n",
       "      <td>8.50</td>\n",
       "      <td>27.033333</td>\n",
       "      <td>57.05</td>\n",
       "      <td>28.55</td>\n",
       "      <td>33.80</td>\n",
       "      <td>10.2</td>\n",
       "      <td>33.4</td>\n",
       "      <td>13.9</td>\n",
       "      <td>21.70</td>\n",
       "      <td>30.40</td>\n",
       "    </tr>\n",
       "    <tr>\n",
       "      <th>4</th>\n",
       "      <td>20150101</td>\n",
       "      <td>0</td>\n",
       "      <td>AQI</td>\n",
       "      <td>49.000</td>\n",
       "      <td>43.000000</td>\n",
       "      <td>52.333333</td>\n",
       "      <td>39.666667</td>\n",
       "      <td>47.666667</td>\n",
       "      <td>28.0</td>\n",
       "      <td>56.00</td>\n",
       "      <td>57.000000</td>\n",
       "      <td>80.00</td>\n",
       "      <td>45.50</td>\n",
       "      <td>54.00</td>\n",
       "      <td>43.0</td>\n",
       "      <td>54.0</td>\n",
       "      <td>20.0</td>\n",
       "      <td>28.00</td>\n",
       "      <td>46.00</td>\n",
       "    </tr>\n",
       "    <tr>\n",
       "      <th>0</th>\n",
       "      <td>20150101</td>\n",
       "      <td>0</td>\n",
       "      <td>SO2</td>\n",
       "      <td>13.950</td>\n",
       "      <td>12.466667</td>\n",
       "      <td>15.533333</td>\n",
       "      <td>9.533333</td>\n",
       "      <td>5.500000</td>\n",
       "      <td>3.2</td>\n",
       "      <td>26.85</td>\n",
       "      <td>11.933333</td>\n",
       "      <td>31.25</td>\n",
       "      <td>7.25</td>\n",
       "      <td>6.40</td>\n",
       "      <td>2.7</td>\n",
       "      <td>9.1</td>\n",
       "      <td>2.0</td>\n",
       "      <td>9.55</td>\n",
       "      <td>15.70</td>\n",
       "    </tr>\n",
       "    <tr>\n",
       "      <th>2</th>\n",
       "      <td>20150101</td>\n",
       "      <td>0</td>\n",
       "      <td>NO2</td>\n",
       "      <td>28.050</td>\n",
       "      <td>19.100000</td>\n",
       "      <td>41.666667</td>\n",
       "      <td>7.766667</td>\n",
       "      <td>27.666667</td>\n",
       "      <td>4.0</td>\n",
       "      <td>34.35</td>\n",
       "      <td>20.066667</td>\n",
       "      <td>70.40</td>\n",
       "      <td>11.30</td>\n",
       "      <td>22.90</td>\n",
       "      <td>2.1</td>\n",
       "      <td>13.6</td>\n",
       "      <td>2.0</td>\n",
       "      <td>8.80</td>\n",
       "      <td>13.25</td>\n",
       "    </tr>\n",
       "    <tr>\n",
       "      <th>...</th>\n",
       "      <td>...</td>\n",
       "      <td>...</td>\n",
       "      <td>...</td>\n",
       "      <td>...</td>\n",
       "      <td>...</td>\n",
       "      <td>...</td>\n",
       "      <td>...</td>\n",
       "      <td>...</td>\n",
       "      <td>...</td>\n",
       "      <td>...</td>\n",
       "      <td>...</td>\n",
       "      <td>...</td>\n",
       "      <td>...</td>\n",
       "      <td>...</td>\n",
       "      <td>...</td>\n",
       "      <td>...</td>\n",
       "      <td>...</td>\n",
       "      <td>...</td>\n",
       "      <td>...</td>\n",
       "    </tr>\n",
       "    <tr>\n",
       "      <th>119</th>\n",
       "      <td>20151231</td>\n",
       "      <td>23</td>\n",
       "      <td>AQI</td>\n",
       "      <td>91.750</td>\n",
       "      <td>89.000000</td>\n",
       "      <td>99.333333</td>\n",
       "      <td>102.666667</td>\n",
       "      <td>96.666667</td>\n",
       "      <td>102.0</td>\n",
       "      <td>185.50</td>\n",
       "      <td>150.666667</td>\n",
       "      <td>147.50</td>\n",
       "      <td>88.00</td>\n",
       "      <td>72.00</td>\n",
       "      <td>83.0</td>\n",
       "      <td>129.0</td>\n",
       "      <td>65.0</td>\n",
       "      <td>68.00</td>\n",
       "      <td>80.00</td>\n",
       "    </tr>\n",
       "    <tr>\n",
       "      <th>184</th>\n",
       "      <td>20151231</td>\n",
       "      <td>23</td>\n",
       "      <td>SO2</td>\n",
       "      <td>26.250</td>\n",
       "      <td>44.333333</td>\n",
       "      <td>31.666667</td>\n",
       "      <td>39.333333</td>\n",
       "      <td>31.333333</td>\n",
       "      <td>34.0</td>\n",
       "      <td>32.50</td>\n",
       "      <td>44.333333</td>\n",
       "      <td>38.00</td>\n",
       "      <td>25.50</td>\n",
       "      <td>18.50</td>\n",
       "      <td>17.0</td>\n",
       "      <td>21.0</td>\n",
       "      <td>6.0</td>\n",
       "      <td>14.00</td>\n",
       "      <td>18.50</td>\n",
       "    </tr>\n",
       "    <tr>\n",
       "      <th>186</th>\n",
       "      <td>20151231</td>\n",
       "      <td>23</td>\n",
       "      <td>NO2</td>\n",
       "      <td>114.000</td>\n",
       "      <td>114.000000</td>\n",
       "      <td>118.000000</td>\n",
       "      <td>100.000000</td>\n",
       "      <td>101.000000</td>\n",
       "      <td>89.0</td>\n",
       "      <td>99.00</td>\n",
       "      <td>125.000000</td>\n",
       "      <td>102.50</td>\n",
       "      <td>84.00</td>\n",
       "      <td>88.00</td>\n",
       "      <td>81.0</td>\n",
       "      <td>61.0</td>\n",
       "      <td>44.0</td>\n",
       "      <td>49.50</td>\n",
       "      <td>80.00</td>\n",
       "    </tr>\n",
       "    <tr>\n",
       "      <th>188</th>\n",
       "      <td>20151231</td>\n",
       "      <td>23</td>\n",
       "      <td>O3</td>\n",
       "      <td>2.500</td>\n",
       "      <td>9.333333</td>\n",
       "      <td>15.000000</td>\n",
       "      <td>5.666667</td>\n",
       "      <td>7.000000</td>\n",
       "      <td>2.0</td>\n",
       "      <td>3.00</td>\n",
       "      <td>11.666667</td>\n",
       "      <td>9.50</td>\n",
       "      <td>7.00</td>\n",
       "      <td>2.50</td>\n",
       "      <td>2.0</td>\n",
       "      <td>19.0</td>\n",
       "      <td>2.0</td>\n",
       "      <td>12.00</td>\n",
       "      <td>7.50</td>\n",
       "    </tr>\n",
       "    <tr>\n",
       "      <th>190</th>\n",
       "      <td>20151231</td>\n",
       "      <td>23</td>\n",
       "      <td>CO</td>\n",
       "      <td>4.050</td>\n",
       "      <td>4.666667</td>\n",
       "      <td>4.733333</td>\n",
       "      <td>3.833333</td>\n",
       "      <td>4.966667</td>\n",
       "      <td>3.6</td>\n",
       "      <td>4.85</td>\n",
       "      <td>5.600000</td>\n",
       "      <td>4.50</td>\n",
       "      <td>3.05</td>\n",
       "      <td>3.15</td>\n",
       "      <td>2.5</td>\n",
       "      <td>2.3</td>\n",
       "      <td>1.7</td>\n",
       "      <td>2.30</td>\n",
       "      <td>2.50</td>\n",
       "    </tr>\n",
       "  </tbody>\n",
       "</table>\n",
       "<p>60809 rows × 19 columns</p>\n",
       "</div>"
      ]
     },
     "execution_count": 121,
     "metadata": {},
     "output_type": "execute_result"
    }
   ],
   "execution_count": 121
  },
  {
   "metadata": {},
   "cell_type": "markdown",
   "source": "## 异常值缺失值处理 & 获得不同污染物的逐日和逐月逐年数据",
   "id": "37d765b1a698dd3c"
  },
  {
   "metadata": {},
   "cell_type": "code",
   "source": [
    "for i,data in enumerate(NewDataList):\n",
    "    for gas in ['AQI','CO','NO2','O3','PM10','PM2.5','SO2']:\n",
    "        df=data[data['type']==gas]\n",
    "    \n",
    "        # 处理异常值和缺失值\n",
    "        for station in df.columns[3:]:\n",
    "            anomalous_index=df[df[station]>=1200].index\n",
    "            df=df.drop(anomalous_index)\n",
    "    \n",
    "            # 检测是否存在缺失值\n",
    "            missing_count=df[station].isnull().sum()\n",
    "            if missing_count>0:\n",
    "                # 使用插值法填充缺失值 \n",
    "                df[station] = df[station].interpolate(method='linear')\n",
    "                # 对仍有缺失值的部分，使用前向填充和后向填充补齐\n",
    "                df[station] = df[station].fillna(method='ffill').fillna(method='bfill')\n",
    "            \n",
    "    \n",
    "        # 逐小时数据导出\n",
    "        output_dir2=os.path.join(os.path.pardir,'output_data/by_district/'+str(gas))\n",
    "        os.makedirs(output_dir2,exist_ok=True)\n",
    "        output_file=os.path.join(output_dir2,f'Beijing_AirQuality_{i+2014}{gas}_hours.csv')\n",
    "        df.to_csv(output_file,index=False,encoding='utf-8-sig')\n",
    "        \n",
    "        # 逐日数据导出\n",
    "        numeric_columns = df.columns[3:]\n",
    "        df[numeric_columns] = df[numeric_columns].apply(pd.to_numeric, errors='coerce')\n",
    "        daily_avg = df.groupby('date')[numeric_columns].mean().reset_index()  \n",
    "        \n",
    "        output_file=os.path.join(output_dir2,f'Beijing_AirQuality_{i+2014}{gas}_days.csv')\n",
    "        daily_avg.to_csv(output_file,index=False,encoding='utf-8-sig')\n",
    "        print(f\"已保存文件: {output_file}\")\n",
    "        \n",
    "        # 逐月数据导出\n",
    "        df['month'] = df['date'].astype(str).str[:6]\n",
    "        monthly_avg = df.groupby('month')[numeric_columns].mean().reset_index()\n",
    "        \n",
    "        output_file=os.path.join(output_dir2,f'Beijing_AirQuality_{i+2014}{gas}_months.csv')\n",
    "        monthly_avg.to_csv(output_file,index=False,encoding='utf-8-sig')\n",
    "        print(f\"已保存文件: {output_file}\")\n",
    "    "
   ],
   "id": "f87d04d047e7f621",
   "outputs": [],
   "execution_count": null
  },
  {
   "metadata": {
    "ExecuteTime": {
     "end_time": "2024-11-24T12:07:54.900125Z",
     "start_time": "2024-11-24T12:07:54.773512Z"
    }
   },
   "cell_type": "code",
   "source": [
    "# 逐年数据\n",
    "for gas in ['AQI','CO','NO2','O3','PM10','PM2.5','SO2']:\n",
    "    output_dir3=os.path.join(os.path.pardir,'output_data/by_district/'+str(gas))\n",
    "    yearly_data=pd.DataFrame()\n",
    "    monthly_data=pd.DataFrame()\n",
    "    for year in range(2014,2024):\n",
    "        file_path=os.path.join(output_dir3,f'Beijing_AirQuality_{year}{gas}_months.csv')\n",
    "        df=pd.read_csv(file_path)\n",
    "        monthly_data=pd.concat([monthly_data,df],ignore_index=True,join='outer')\n",
    "    \n",
    "    numeric_columns = monthly_data.columns[3:]\n",
    "    monthly_data['year']=monthly_data['month'].astype(str).str[:4]\n",
    "    yearly_avg=monthly_data.groupby('year')[numeric_columns].mean().reset_index()\n",
    "    \n",
    "    output_file=os.path.join(output_dir3,f'Beijing_AirQuality_{gas}_years.csv')\n",
    "    yearly_avg.to_csv(output_file,index=False,encoding='utf-8-sig')\n",
    "    print(f\"已保存文件: {output_file}\")"
   ],
   "id": "16fb8733aad67638",
   "outputs": [
    {
     "name": "stderr",
     "output_type": "stream",
     "text": [
      "C:\\Users\\trunz\\AppData\\Local\\Temp\\ipykernel_5960\\182866041.py:9: FutureWarning: The behavior of DataFrame concatenation with empty or all-NA entries is deprecated. In a future version, this will no longer exclude empty or all-NA columns when determining the result dtypes. To retain the old behavior, exclude the relevant entries before the concat operation.\n",
      "  monthly_data=pd.concat([monthly_data,df],ignore_index=True,join='outer')\n"
     ]
    },
    {
     "name": "stdout",
     "output_type": "stream",
     "text": [
      "已保存文件: ..\\output_data/by_district/AQI\\Beijing_AirQuality_AQI_years.csv\n",
      "已保存文件: ..\\output_data/by_district/CO\\Beijing_AirQuality_CO_years.csv\n",
      "已保存文件: ..\\output_data/by_district/NO2\\Beijing_AirQuality_NO2_years.csv\n",
      "已保存文件: ..\\output_data/by_district/O3\\Beijing_AirQuality_O3_years.csv\n",
      "已保存文件: ..\\output_data/by_district/PM10\\Beijing_AirQuality_PM10_years.csv\n",
      "已保存文件: ..\\output_data/by_district/PM2.5\\Beijing_AirQuality_PM2.5_years.csv\n",
      "已保存文件: ..\\output_data/by_district/SO2\\Beijing_AirQuality_SO2_years.csv\n"
     ]
    }
   ],
   "execution_count": 123
  },
  {
   "metadata": {
    "ExecuteTime": {
     "end_time": "2024-11-24T12:07:55.009570Z",
     "start_time": "2024-11-24T12:07:54.900125Z"
    }
   },
   "cell_type": "code",
   "source": [
    "# 逐年逐月数据\n",
    "for gas in ['AQI','CO','NO2','O3','PM10','PM2.5','SO2']:\n",
    "    output_dir4=os.path.join(os.path.pardir,'output_data/by_district/'+str(gas))\n",
    "    allmonths_data=pd.DataFrame()\n",
    "    for year in range(2014,2024):\n",
    "        file_path=os.path.join(output_dir4,f'Beijing_AirQuality_{year}{gas}_months.csv')\n",
    "        df=pd.read_csv(file_path)\n",
    "        allmonths_data=pd.concat([allmonths_data,df],ignore_index=True,join='outer')\n",
    "    \n",
    "    output_file=os.path.join(output_dir4,f'Beijing_AirQuality_{gas}_allmonths.csv')\n",
    "    allmonths_data.to_csv(output_file,index=False,encoding='utf-8-sig')\n",
    "    print(f\"已保存文件: {output_file}\")"
   ],
   "id": "d6e68e6ede183234",
   "outputs": [
    {
     "name": "stdout",
     "output_type": "stream",
     "text": [
      "已保存文件: ..\\output_data/by_district/AQI\\Beijing_AirQuality_AQI_allmonths.csv\n",
      "已保存文件: ..\\output_data/by_district/CO\\Beijing_AirQuality_CO_allmonths.csv\n",
      "已保存文件: ..\\output_data/by_district/NO2\\Beijing_AirQuality_NO2_allmonths.csv\n",
      "已保存文件: ..\\output_data/by_district/O3\\Beijing_AirQuality_O3_allmonths.csv\n",
      "已保存文件: ..\\output_data/by_district/PM10\\Beijing_AirQuality_PM10_allmonths.csv\n",
      "已保存文件: ..\\output_data/by_district/PM2.5\\Beijing_AirQuality_PM2.5_allmonths.csv\n",
      "已保存文件: ..\\output_data/by_district/SO2\\Beijing_AirQuality_SO2_allmonths.csv\n"
     ]
    },
    {
     "name": "stderr",
     "output_type": "stream",
     "text": [
      "C:\\Users\\trunz\\AppData\\Local\\Temp\\ipykernel_5960\\3679534774.py:8: FutureWarning: The behavior of DataFrame concatenation with empty or all-NA entries is deprecated. In a future version, this will no longer exclude empty or all-NA columns when determining the result dtypes. To retain the old behavior, exclude the relevant entries before the concat operation.\n",
      "  allmonths_data=pd.concat([allmonths_data,df],ignore_index=True,join='outer')\n"
     ]
    }
   ],
   "execution_count": 124
  },
  {
   "metadata": {
    "ExecuteTime": {
     "end_time": "2024-11-24T12:09:40.903612Z",
     "start_time": "2024-11-24T12:09:40.877381Z"
    }
   },
   "cell_type": "code",
   "source": [
    "# 删除冗杂的逐月数据\n",
    "for gas in ['AQI','CO','NO2','O3','PM10','PM2.5','SO2']:\n",
    "    for year in range(2014,2024):\n",
    "        output_dir4=os.path.join(os.path.pardir,'output_data/by_district/'+str(gas))\n",
    "        file_path=os.path.join(output_dir4,f'Beijing_AirQuality_{year}{gas}_months.csv')\n",
    "        os.remove(file_path)\n",
    "        print(f\"已删除文件: {file_path}\")"
   ],
   "id": "1b1c813fa7bfb6e6",
   "outputs": [
    {
     "name": "stdout",
     "output_type": "stream",
     "text": [
      "已删除文件: ..\\output_data/by_district/AQI\\Beijing_AirQuality_2014AQI_months.csv\n",
      "已删除文件: ..\\output_data/by_district/AQI\\Beijing_AirQuality_2015AQI_months.csv\n",
      "已删除文件: ..\\output_data/by_district/AQI\\Beijing_AirQuality_2016AQI_months.csv\n",
      "已删除文件: ..\\output_data/by_district/AQI\\Beijing_AirQuality_2017AQI_months.csv\n",
      "已删除文件: ..\\output_data/by_district/AQI\\Beijing_AirQuality_2018AQI_months.csv\n",
      "已删除文件: ..\\output_data/by_district/AQI\\Beijing_AirQuality_2019AQI_months.csv\n",
      "已删除文件: ..\\output_data/by_district/AQI\\Beijing_AirQuality_2020AQI_months.csv\n",
      "已删除文件: ..\\output_data/by_district/AQI\\Beijing_AirQuality_2021AQI_months.csv\n",
      "已删除文件: ..\\output_data/by_district/AQI\\Beijing_AirQuality_2022AQI_months.csv\n",
      "已删除文件: ..\\output_data/by_district/AQI\\Beijing_AirQuality_2023AQI_months.csv\n",
      "已删除文件: ..\\output_data/by_district/CO\\Beijing_AirQuality_2014CO_months.csv\n",
      "已删除文件: ..\\output_data/by_district/CO\\Beijing_AirQuality_2015CO_months.csv\n",
      "已删除文件: ..\\output_data/by_district/CO\\Beijing_AirQuality_2016CO_months.csv\n",
      "已删除文件: ..\\output_data/by_district/CO\\Beijing_AirQuality_2017CO_months.csv\n",
      "已删除文件: ..\\output_data/by_district/CO\\Beijing_AirQuality_2018CO_months.csv\n",
      "已删除文件: ..\\output_data/by_district/CO\\Beijing_AirQuality_2019CO_months.csv\n",
      "已删除文件: ..\\output_data/by_district/CO\\Beijing_AirQuality_2020CO_months.csv\n",
      "已删除文件: ..\\output_data/by_district/CO\\Beijing_AirQuality_2021CO_months.csv\n",
      "已删除文件: ..\\output_data/by_district/CO\\Beijing_AirQuality_2022CO_months.csv\n",
      "已删除文件: ..\\output_data/by_district/CO\\Beijing_AirQuality_2023CO_months.csv\n",
      "已删除文件: ..\\output_data/by_district/NO2\\Beijing_AirQuality_2014NO2_months.csv\n",
      "已删除文件: ..\\output_data/by_district/NO2\\Beijing_AirQuality_2015NO2_months.csv\n",
      "已删除文件: ..\\output_data/by_district/NO2\\Beijing_AirQuality_2016NO2_months.csv\n",
      "已删除文件: ..\\output_data/by_district/NO2\\Beijing_AirQuality_2017NO2_months.csv\n",
      "已删除文件: ..\\output_data/by_district/NO2\\Beijing_AirQuality_2018NO2_months.csv\n",
      "已删除文件: ..\\output_data/by_district/NO2\\Beijing_AirQuality_2019NO2_months.csv\n",
      "已删除文件: ..\\output_data/by_district/NO2\\Beijing_AirQuality_2020NO2_months.csv\n",
      "已删除文件: ..\\output_data/by_district/NO2\\Beijing_AirQuality_2021NO2_months.csv\n",
      "已删除文件: ..\\output_data/by_district/NO2\\Beijing_AirQuality_2022NO2_months.csv\n",
      "已删除文件: ..\\output_data/by_district/NO2\\Beijing_AirQuality_2023NO2_months.csv\n",
      "已删除文件: ..\\output_data/by_district/O3\\Beijing_AirQuality_2014O3_months.csv\n",
      "已删除文件: ..\\output_data/by_district/O3\\Beijing_AirQuality_2015O3_months.csv\n",
      "已删除文件: ..\\output_data/by_district/O3\\Beijing_AirQuality_2016O3_months.csv\n",
      "已删除文件: ..\\output_data/by_district/O3\\Beijing_AirQuality_2017O3_months.csv\n",
      "已删除文件: ..\\output_data/by_district/O3\\Beijing_AirQuality_2018O3_months.csv\n",
      "已删除文件: ..\\output_data/by_district/O3\\Beijing_AirQuality_2019O3_months.csv\n",
      "已删除文件: ..\\output_data/by_district/O3\\Beijing_AirQuality_2020O3_months.csv\n",
      "已删除文件: ..\\output_data/by_district/O3\\Beijing_AirQuality_2021O3_months.csv\n",
      "已删除文件: ..\\output_data/by_district/O3\\Beijing_AirQuality_2022O3_months.csv\n",
      "已删除文件: ..\\output_data/by_district/O3\\Beijing_AirQuality_2023O3_months.csv\n",
      "已删除文件: ..\\output_data/by_district/PM10\\Beijing_AirQuality_2014PM10_months.csv\n",
      "已删除文件: ..\\output_data/by_district/PM10\\Beijing_AirQuality_2015PM10_months.csv\n",
      "已删除文件: ..\\output_data/by_district/PM10\\Beijing_AirQuality_2016PM10_months.csv\n",
      "已删除文件: ..\\output_data/by_district/PM10\\Beijing_AirQuality_2017PM10_months.csv\n",
      "已删除文件: ..\\output_data/by_district/PM10\\Beijing_AirQuality_2018PM10_months.csv\n",
      "已删除文件: ..\\output_data/by_district/PM10\\Beijing_AirQuality_2019PM10_months.csv\n",
      "已删除文件: ..\\output_data/by_district/PM10\\Beijing_AirQuality_2020PM10_months.csv\n",
      "已删除文件: ..\\output_data/by_district/PM10\\Beijing_AirQuality_2021PM10_months.csv\n",
      "已删除文件: ..\\output_data/by_district/PM10\\Beijing_AirQuality_2022PM10_months.csv\n",
      "已删除文件: ..\\output_data/by_district/PM10\\Beijing_AirQuality_2023PM10_months.csv\n",
      "已删除文件: ..\\output_data/by_district/PM2.5\\Beijing_AirQuality_2014PM2.5_months.csv\n",
      "已删除文件: ..\\output_data/by_district/PM2.5\\Beijing_AirQuality_2015PM2.5_months.csv\n",
      "已删除文件: ..\\output_data/by_district/PM2.5\\Beijing_AirQuality_2016PM2.5_months.csv\n",
      "已删除文件: ..\\output_data/by_district/PM2.5\\Beijing_AirQuality_2017PM2.5_months.csv\n",
      "已删除文件: ..\\output_data/by_district/PM2.5\\Beijing_AirQuality_2018PM2.5_months.csv\n",
      "已删除文件: ..\\output_data/by_district/PM2.5\\Beijing_AirQuality_2019PM2.5_months.csv\n",
      "已删除文件: ..\\output_data/by_district/PM2.5\\Beijing_AirQuality_2020PM2.5_months.csv\n",
      "已删除文件: ..\\output_data/by_district/PM2.5\\Beijing_AirQuality_2021PM2.5_months.csv\n",
      "已删除文件: ..\\output_data/by_district/PM2.5\\Beijing_AirQuality_2022PM2.5_months.csv\n",
      "已删除文件: ..\\output_data/by_district/PM2.5\\Beijing_AirQuality_2023PM2.5_months.csv\n",
      "已删除文件: ..\\output_data/by_district/SO2\\Beijing_AirQuality_2014SO2_months.csv\n",
      "已删除文件: ..\\output_data/by_district/SO2\\Beijing_AirQuality_2015SO2_months.csv\n",
      "已删除文件: ..\\output_data/by_district/SO2\\Beijing_AirQuality_2016SO2_months.csv\n",
      "已删除文件: ..\\output_data/by_district/SO2\\Beijing_AirQuality_2017SO2_months.csv\n",
      "已删除文件: ..\\output_data/by_district/SO2\\Beijing_AirQuality_2018SO2_months.csv\n",
      "已删除文件: ..\\output_data/by_district/SO2\\Beijing_AirQuality_2019SO2_months.csv\n",
      "已删除文件: ..\\output_data/by_district/SO2\\Beijing_AirQuality_2020SO2_months.csv\n",
      "已删除文件: ..\\output_data/by_district/SO2\\Beijing_AirQuality_2021SO2_months.csv\n",
      "已删除文件: ..\\output_data/by_district/SO2\\Beijing_AirQuality_2022SO2_months.csv\n",
      "已删除文件: ..\\output_data/by_district/SO2\\Beijing_AirQuality_2023SO2_months.csv\n"
     ]
    }
   ],
   "execution_count": 126
  },
  {
   "metadata": {
    "ExecuteTime": {
     "end_time": "2024-11-24T12:12:19.541218Z",
     "start_time": "2024-11-24T12:12:19.529838Z"
    }
   },
   "cell_type": "code",
   "source": [
    "# Release all variables\n",
    "del DataList, NewDataList, df, df_all, df_temp, daily_avg, monthly_avg, yearly_avg, allmonths_data"
   ],
   "id": "c5b9b935d905d2d",
   "outputs": [
    {
     "ename": "NameError",
     "evalue": "name 'DataList' is not defined",
     "output_type": "error",
     "traceback": [
      "\u001B[1;31m---------------------------------------------------------------------------\u001B[0m",
      "\u001B[1;31mNameError\u001B[0m                                 Traceback (most recent call last)",
      "Cell \u001B[1;32mIn[128], line 2\u001B[0m\n\u001B[0;32m      1\u001B[0m \u001B[38;5;66;03m# Release all variables\u001B[39;00m\n\u001B[1;32m----> 2\u001B[0m \u001B[38;5;28;01mdel\u001B[39;00m DataList, NewDataList, df, df_all, df_temp, daily_avg, monthly_avg, yearly_avg, allmonths_data\n",
      "\u001B[1;31mNameError\u001B[0m: name 'DataList' is not defined"
     ]
    }
   ],
   "execution_count": 128
  },
  {
   "metadata": {},
   "cell_type": "code",
   "outputs": [],
   "execution_count": null,
   "source": "",
   "id": "ae48a5dc1896788f"
  }
 ],
 "metadata": {
  "kernelspec": {
   "display_name": "Python 3",
   "language": "python",
   "name": "python3"
  },
  "language_info": {
   "codemirror_mode": {
    "name": "ipython",
    "version": 2
   },
   "file_extension": ".py",
   "mimetype": "text/x-python",
   "name": "python",
   "nbconvert_exporter": "python",
   "pygments_lexer": "ipython2",
   "version": "2.7.6"
  }
 },
 "nbformat": 4,
 "nbformat_minor": 5
}
